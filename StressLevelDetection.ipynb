{
 "cells": [
  {
   "cell_type": "code",
   "execution_count": 1,
   "id": "525e1d26",
   "metadata": {},
   "outputs": [
    {
     "name": "stdout",
     "output_type": "stream",
     "text": [
      "WARNING:tensorflow:From C:\\Users\\hasib\\anaconda3\\Lib\\site-packages\\keras\\src\\losses.py:2976: The name tf.losses.sparse_softmax_cross_entropy is deprecated. Please use tf.compat.v1.losses.sparse_softmax_cross_entropy instead.\n",
      "\n"
     ]
    }
   ],
   "source": [
    "import tensorflow as tf\n",
    "import pandas as pd\n",
    "import numpy as np\n",
    "from sklearn.preprocessing import StandardScaler\n",
    "import tensorflow.keras as k\n",
    "from sklearn.model_selection import train_test_split\n",
    "from matplotlib import pyplot as plt\n",
    "import time"
   ]
  },
  {
   "cell_type": "markdown",
   "id": "3ebb76e7",
   "metadata": {},
   "source": [
    "# Loading datasets"
   ]
  },
  {
   "cell_type": "code",
   "execution_count": 2,
   "id": "802b8939",
   "metadata": {},
   "outputs": [],
   "source": [
    "df1=pd.read_csv('C:/Users/hasib/Downloads/Stress+level+detection/Project Code/Data/Train Data/Train Data Zip/time_domain_features_train.csv')"
   ]
  },
  {
   "cell_type": "code",
   "execution_count": 3,
   "id": "639f8223",
   "metadata": {},
   "outputs": [],
   "source": [
    "df2=pd.read_csv('C:/Users/hasib/Downloads/Stress+level+detection/Project Code/Data/Train Data/Train Data Zip/heart_rate_non_linear_features_train.csv')"
   ]
  },
  {
   "cell_type": "code",
   "execution_count": 4,
   "id": "fe090300",
   "metadata": {},
   "outputs": [],
   "source": [
    "df3=pd.read_csv('C:/Users/hasib/Downloads/Stress+level+detection/Project Code/Data/Train Data/Train Data Zip/frequency_domain_features_train.csv')"
   ]
  },
  {
   "cell_type": "code",
   "execution_count": 5,
   "id": "e1bccf26",
   "metadata": {},
   "outputs": [],
   "source": [
    "result = pd.merge(df1, pd.merge(df2, df3, on='uuid'), on='uuid')"
   ]
  },
  {
   "cell_type": "code",
   "execution_count": 6,
   "id": "e982ca40",
   "metadata": {},
   "outputs": [
    {
     "data": {
      "text/html": [
       "<div>\n",
       "<style scoped>\n",
       "    .dataframe tbody tr th:only-of-type {\n",
       "        vertical-align: middle;\n",
       "    }\n",
       "\n",
       "    .dataframe tbody tr th {\n",
       "        vertical-align: top;\n",
       "    }\n",
       "\n",
       "    .dataframe thead th {\n",
       "        text-align: right;\n",
       "    }\n",
       "</style>\n",
       "<table border=\"1\" class=\"dataframe\">\n",
       "  <thead>\n",
       "    <tr style=\"text-align: right;\">\n",
       "      <th></th>\n",
       "      <th>MEAN_RR</th>\n",
       "      <th>MEDIAN_RR</th>\n",
       "      <th>SDRR</th>\n",
       "      <th>RMSSD</th>\n",
       "      <th>SDSD</th>\n",
       "      <th>SDRR_RMSSD</th>\n",
       "      <th>HR</th>\n",
       "      <th>pNN25</th>\n",
       "      <th>pNN50</th>\n",
       "      <th>KURT</th>\n",
       "      <th>...</th>\n",
       "      <th>VLF_PCT</th>\n",
       "      <th>LF</th>\n",
       "      <th>LF_PCT</th>\n",
       "      <th>LF_NU</th>\n",
       "      <th>HF</th>\n",
       "      <th>HF_PCT</th>\n",
       "      <th>HF_NU</th>\n",
       "      <th>TP</th>\n",
       "      <th>LF_HF</th>\n",
       "      <th>HF_LF</th>\n",
       "    </tr>\n",
       "  </thead>\n",
       "  <tbody>\n",
       "    <tr>\n",
       "      <th>0</th>\n",
       "      <td>885.157845</td>\n",
       "      <td>853.763730</td>\n",
       "      <td>140.972741</td>\n",
       "      <td>15.554505</td>\n",
       "      <td>15.553371</td>\n",
       "      <td>9.063146</td>\n",
       "      <td>69.499952</td>\n",
       "      <td>11.133333</td>\n",
       "      <td>0.533333</td>\n",
       "      <td>-0.856554</td>\n",
       "      <td>...</td>\n",
       "      <td>72.203287</td>\n",
       "      <td>1009.249419</td>\n",
       "      <td>27.375666</td>\n",
       "      <td>98.485263</td>\n",
       "      <td>15.522603</td>\n",
       "      <td>0.421047</td>\n",
       "      <td>1.514737</td>\n",
       "      <td>3686.666157</td>\n",
       "      <td>65.018055</td>\n",
       "      <td>0.015380</td>\n",
       "    </tr>\n",
       "    <tr>\n",
       "      <th>1</th>\n",
       "      <td>939.425371</td>\n",
       "      <td>948.357865</td>\n",
       "      <td>81.317742</td>\n",
       "      <td>12.964439</td>\n",
       "      <td>12.964195</td>\n",
       "      <td>6.272369</td>\n",
       "      <td>64.363150</td>\n",
       "      <td>5.600000</td>\n",
       "      <td>0.000000</td>\n",
       "      <td>-0.408190</td>\n",
       "      <td>...</td>\n",
       "      <td>76.975728</td>\n",
       "      <td>690.113275</td>\n",
       "      <td>22.954139</td>\n",
       "      <td>99.695397</td>\n",
       "      <td>2.108525</td>\n",
       "      <td>0.070133</td>\n",
       "      <td>0.304603</td>\n",
       "      <td>3006.487251</td>\n",
       "      <td>327.296635</td>\n",
       "      <td>0.003055</td>\n",
       "    </tr>\n",
       "    <tr>\n",
       "      <th>2</th>\n",
       "      <td>898.186047</td>\n",
       "      <td>907.006860</td>\n",
       "      <td>84.497236</td>\n",
       "      <td>16.305279</td>\n",
       "      <td>16.305274</td>\n",
       "      <td>5.182201</td>\n",
       "      <td>67.450066</td>\n",
       "      <td>13.066667</td>\n",
       "      <td>0.200000</td>\n",
       "      <td>0.351789</td>\n",
       "      <td>...</td>\n",
       "      <td>51.152225</td>\n",
       "      <td>1298.222619</td>\n",
       "      <td>48.335104</td>\n",
       "      <td>98.950472</td>\n",
       "      <td>13.769729</td>\n",
       "      <td>0.512671</td>\n",
       "      <td>1.049528</td>\n",
       "      <td>2685.879461</td>\n",
       "      <td>94.280910</td>\n",
       "      <td>0.010607</td>\n",
       "    </tr>\n",
       "    <tr>\n",
       "      <th>3</th>\n",
       "      <td>881.757865</td>\n",
       "      <td>893.460030</td>\n",
       "      <td>90.370537</td>\n",
       "      <td>15.720468</td>\n",
       "      <td>15.720068</td>\n",
       "      <td>5.748591</td>\n",
       "      <td>68.809562</td>\n",
       "      <td>11.800000</td>\n",
       "      <td>0.133333</td>\n",
       "      <td>-0.504947</td>\n",
       "      <td>...</td>\n",
       "      <td>70.180308</td>\n",
       "      <td>1005.981659</td>\n",
       "      <td>29.290305</td>\n",
       "      <td>98.224706</td>\n",
       "      <td>18.181913</td>\n",
       "      <td>0.529387</td>\n",
       "      <td>1.775294</td>\n",
       "      <td>3434.520980</td>\n",
       "      <td>55.328701</td>\n",
       "      <td>0.018074</td>\n",
       "    </tr>\n",
       "    <tr>\n",
       "      <th>4</th>\n",
       "      <td>809.625331</td>\n",
       "      <td>811.184865</td>\n",
       "      <td>62.766242</td>\n",
       "      <td>19.213819</td>\n",
       "      <td>19.213657</td>\n",
       "      <td>3.266724</td>\n",
       "      <td>74.565728</td>\n",
       "      <td>20.200000</td>\n",
       "      <td>0.200000</td>\n",
       "      <td>-0.548408</td>\n",
       "      <td>...</td>\n",
       "      <td>43.918366</td>\n",
       "      <td>1421.782051</td>\n",
       "      <td>54.242160</td>\n",
       "      <td>96.720007</td>\n",
       "      <td>48.215822</td>\n",
       "      <td>1.839473</td>\n",
       "      <td>3.279993</td>\n",
       "      <td>2621.175204</td>\n",
       "      <td>29.487873</td>\n",
       "      <td>0.033912</td>\n",
       "    </tr>\n",
       "  </tbody>\n",
       "</table>\n",
       "<p>5 rows × 37 columns</p>\n",
       "</div>"
      ],
      "text/plain": [
       "      MEAN_RR   MEDIAN_RR        SDRR      RMSSD       SDSD  SDRR_RMSSD  \\\n",
       "0  885.157845  853.763730  140.972741  15.554505  15.553371    9.063146   \n",
       "1  939.425371  948.357865   81.317742  12.964439  12.964195    6.272369   \n",
       "2  898.186047  907.006860   84.497236  16.305279  16.305274    5.182201   \n",
       "3  881.757865  893.460030   90.370537  15.720468  15.720068    5.748591   \n",
       "4  809.625331  811.184865   62.766242  19.213819  19.213657    3.266724   \n",
       "\n",
       "          HR      pNN25     pNN50      KURT  ...    VLF_PCT           LF  \\\n",
       "0  69.499952  11.133333  0.533333 -0.856554  ...  72.203287  1009.249419   \n",
       "1  64.363150   5.600000  0.000000 -0.408190  ...  76.975728   690.113275   \n",
       "2  67.450066  13.066667  0.200000  0.351789  ...  51.152225  1298.222619   \n",
       "3  68.809562  11.800000  0.133333 -0.504947  ...  70.180308  1005.981659   \n",
       "4  74.565728  20.200000  0.200000 -0.548408  ...  43.918366  1421.782051   \n",
       "\n",
       "      LF_PCT      LF_NU         HF    HF_PCT     HF_NU           TP  \\\n",
       "0  27.375666  98.485263  15.522603  0.421047  1.514737  3686.666157   \n",
       "1  22.954139  99.695397   2.108525  0.070133  0.304603  3006.487251   \n",
       "2  48.335104  98.950472  13.769729  0.512671  1.049528  2685.879461   \n",
       "3  29.290305  98.224706  18.181913  0.529387  1.775294  3434.520980   \n",
       "4  54.242160  96.720007  48.215822  1.839473  3.279993  2621.175204   \n",
       "\n",
       "        LF_HF     HF_LF  \n",
       "0   65.018055  0.015380  \n",
       "1  327.296635  0.003055  \n",
       "2   94.280910  0.010607  \n",
       "3   55.328701  0.018074  \n",
       "4   29.487873  0.033912  \n",
       "\n",
       "[5 rows x 37 columns]"
      ]
     },
     "execution_count": 6,
     "metadata": {},
     "output_type": "execute_result"
    }
   ],
   "source": [
    "result.head()"
   ]
  },
  {
   "cell_type": "markdown",
   "id": "76ea53ac",
   "metadata": {},
   "source": [
    "# Reading the dataset"
   ]
  },
  {
   "cell_type": "code",
   "execution_count": 7,
   "id": "ed707d1b",
   "metadata": {},
   "outputs": [],
   "source": [
    "df = result[['MEAN_RR','RMSSD','pNN25','pNN50','LF','HF','LF_HF','condition']].copy()"
   ]
  },
  {
   "cell_type": "code",
   "execution_count": 8,
   "id": "8e692c1b",
   "metadata": {},
   "outputs": [
    {
     "name": "stdout",
     "output_type": "stream",
     "text": [
      "['no stress' 'interruption' 'time pressure']\n"
     ]
    }
   ],
   "source": [
    "unique_values = df['condition'].unique()\n",
    "\n",
    "print(unique_values)"
   ]
  },
  {
   "cell_type": "code",
   "execution_count": 9,
   "id": "6eb28a2f",
   "metadata": {},
   "outputs": [
    {
     "data": {
      "text/html": [
       "<div>\n",
       "<style scoped>\n",
       "    .dataframe tbody tr th:only-of-type {\n",
       "        vertical-align: middle;\n",
       "    }\n",
       "\n",
       "    .dataframe tbody tr th {\n",
       "        vertical-align: top;\n",
       "    }\n",
       "\n",
       "    .dataframe thead th {\n",
       "        text-align: right;\n",
       "    }\n",
       "</style>\n",
       "<table border=\"1\" class=\"dataframe\">\n",
       "  <thead>\n",
       "    <tr style=\"text-align: right;\">\n",
       "      <th></th>\n",
       "      <th>MEAN_RR</th>\n",
       "      <th>RMSSD</th>\n",
       "      <th>pNN25</th>\n",
       "      <th>pNN50</th>\n",
       "      <th>LF</th>\n",
       "      <th>HF</th>\n",
       "      <th>LF_HF</th>\n",
       "      <th>condition</th>\n",
       "    </tr>\n",
       "  </thead>\n",
       "  <tbody>\n",
       "    <tr>\n",
       "      <th>0</th>\n",
       "      <td>885.157845</td>\n",
       "      <td>15.554505</td>\n",
       "      <td>11.133333</td>\n",
       "      <td>0.533333</td>\n",
       "      <td>1009.249419</td>\n",
       "      <td>15.522603</td>\n",
       "      <td>65.018055</td>\n",
       "      <td>no stress</td>\n",
       "    </tr>\n",
       "    <tr>\n",
       "      <th>1</th>\n",
       "      <td>939.425371</td>\n",
       "      <td>12.964439</td>\n",
       "      <td>5.600000</td>\n",
       "      <td>0.000000</td>\n",
       "      <td>690.113275</td>\n",
       "      <td>2.108525</td>\n",
       "      <td>327.296635</td>\n",
       "      <td>interruption</td>\n",
       "    </tr>\n",
       "    <tr>\n",
       "      <th>2</th>\n",
       "      <td>898.186047</td>\n",
       "      <td>16.305279</td>\n",
       "      <td>13.066667</td>\n",
       "      <td>0.200000</td>\n",
       "      <td>1298.222619</td>\n",
       "      <td>13.769729</td>\n",
       "      <td>94.280910</td>\n",
       "      <td>interruption</td>\n",
       "    </tr>\n",
       "    <tr>\n",
       "      <th>3</th>\n",
       "      <td>881.757865</td>\n",
       "      <td>15.720468</td>\n",
       "      <td>11.800000</td>\n",
       "      <td>0.133333</td>\n",
       "      <td>1005.981659</td>\n",
       "      <td>18.181913</td>\n",
       "      <td>55.328701</td>\n",
       "      <td>no stress</td>\n",
       "    </tr>\n",
       "    <tr>\n",
       "      <th>4</th>\n",
       "      <td>809.625331</td>\n",
       "      <td>19.213819</td>\n",
       "      <td>20.200000</td>\n",
       "      <td>0.200000</td>\n",
       "      <td>1421.782051</td>\n",
       "      <td>48.215822</td>\n",
       "      <td>29.487873</td>\n",
       "      <td>no stress</td>\n",
       "    </tr>\n",
       "  </tbody>\n",
       "</table>\n",
       "</div>"
      ],
      "text/plain": [
       "      MEAN_RR      RMSSD      pNN25     pNN50           LF         HF  \\\n",
       "0  885.157845  15.554505  11.133333  0.533333  1009.249419  15.522603   \n",
       "1  939.425371  12.964439   5.600000  0.000000   690.113275   2.108525   \n",
       "2  898.186047  16.305279  13.066667  0.200000  1298.222619  13.769729   \n",
       "3  881.757865  15.720468  11.800000  0.133333  1005.981659  18.181913   \n",
       "4  809.625331  19.213819  20.200000  0.200000  1421.782051  48.215822   \n",
       "\n",
       "        LF_HF     condition  \n",
       "0   65.018055     no stress  \n",
       "1  327.296635  interruption  \n",
       "2   94.280910  interruption  \n",
       "3   55.328701     no stress  \n",
       "4   29.487873     no stress  "
      ]
     },
     "execution_count": 9,
     "metadata": {},
     "output_type": "execute_result"
    }
   ],
   "source": [
    "df.head()"
   ]
  },
  {
   "cell_type": "code",
   "execution_count": 10,
   "id": "288baca0",
   "metadata": {},
   "outputs": [],
   "source": [
    "replace_dict = {'no stress': '0', 'interruption': '1', 'time pressure': '2'}\n",
    "df['condition'] = df['condition'].replace(replace_dict)"
   ]
  },
  {
   "cell_type": "code",
   "execution_count": 11,
   "id": "7e7abf71",
   "metadata": {},
   "outputs": [
    {
     "data": {
      "text/html": [
       "<div>\n",
       "<style scoped>\n",
       "    .dataframe tbody tr th:only-of-type {\n",
       "        vertical-align: middle;\n",
       "    }\n",
       "\n",
       "    .dataframe tbody tr th {\n",
       "        vertical-align: top;\n",
       "    }\n",
       "\n",
       "    .dataframe thead th {\n",
       "        text-align: right;\n",
       "    }\n",
       "</style>\n",
       "<table border=\"1\" class=\"dataframe\">\n",
       "  <thead>\n",
       "    <tr style=\"text-align: right;\">\n",
       "      <th></th>\n",
       "      <th>MEAN_RR</th>\n",
       "      <th>RMSSD</th>\n",
       "      <th>pNN25</th>\n",
       "      <th>pNN50</th>\n",
       "      <th>LF</th>\n",
       "      <th>HF</th>\n",
       "      <th>LF_HF</th>\n",
       "      <th>condition</th>\n",
       "    </tr>\n",
       "  </thead>\n",
       "  <tbody>\n",
       "    <tr>\n",
       "      <th>0</th>\n",
       "      <td>885.157845</td>\n",
       "      <td>15.554505</td>\n",
       "      <td>11.133333</td>\n",
       "      <td>0.533333</td>\n",
       "      <td>1009.249419</td>\n",
       "      <td>15.522603</td>\n",
       "      <td>65.018055</td>\n",
       "      <td>0</td>\n",
       "    </tr>\n",
       "    <tr>\n",
       "      <th>1</th>\n",
       "      <td>939.425371</td>\n",
       "      <td>12.964439</td>\n",
       "      <td>5.600000</td>\n",
       "      <td>0.000000</td>\n",
       "      <td>690.113275</td>\n",
       "      <td>2.108525</td>\n",
       "      <td>327.296635</td>\n",
       "      <td>1</td>\n",
       "    </tr>\n",
       "    <tr>\n",
       "      <th>2</th>\n",
       "      <td>898.186047</td>\n",
       "      <td>16.305279</td>\n",
       "      <td>13.066667</td>\n",
       "      <td>0.200000</td>\n",
       "      <td>1298.222619</td>\n",
       "      <td>13.769729</td>\n",
       "      <td>94.280910</td>\n",
       "      <td>1</td>\n",
       "    </tr>\n",
       "    <tr>\n",
       "      <th>3</th>\n",
       "      <td>881.757865</td>\n",
       "      <td>15.720468</td>\n",
       "      <td>11.800000</td>\n",
       "      <td>0.133333</td>\n",
       "      <td>1005.981659</td>\n",
       "      <td>18.181913</td>\n",
       "      <td>55.328701</td>\n",
       "      <td>0</td>\n",
       "    </tr>\n",
       "    <tr>\n",
       "      <th>4</th>\n",
       "      <td>809.625331</td>\n",
       "      <td>19.213819</td>\n",
       "      <td>20.200000</td>\n",
       "      <td>0.200000</td>\n",
       "      <td>1421.782051</td>\n",
       "      <td>48.215822</td>\n",
       "      <td>29.487873</td>\n",
       "      <td>0</td>\n",
       "    </tr>\n",
       "  </tbody>\n",
       "</table>\n",
       "</div>"
      ],
      "text/plain": [
       "      MEAN_RR      RMSSD      pNN25     pNN50           LF         HF  \\\n",
       "0  885.157845  15.554505  11.133333  0.533333  1009.249419  15.522603   \n",
       "1  939.425371  12.964439   5.600000  0.000000   690.113275   2.108525   \n",
       "2  898.186047  16.305279  13.066667  0.200000  1298.222619  13.769729   \n",
       "3  881.757865  15.720468  11.800000  0.133333  1005.981659  18.181913   \n",
       "4  809.625331  19.213819  20.200000  0.200000  1421.782051  48.215822   \n",
       "\n",
       "        LF_HF condition  \n",
       "0   65.018055         0  \n",
       "1  327.296635         1  \n",
       "2   94.280910         1  \n",
       "3   55.328701         0  \n",
       "4   29.487873         0  "
      ]
     },
     "execution_count": 11,
     "metadata": {},
     "output_type": "execute_result"
    }
   ],
   "source": [
    "df.head()"
   ]
  },
  {
   "cell_type": "code",
   "execution_count": 12,
   "id": "35a8e9ae",
   "metadata": {},
   "outputs": [
    {
     "name": "stdout",
     "output_type": "stream",
     "text": [
      "['0' '1' '2']\n"
     ]
    }
   ],
   "source": [
    "unique_values = df['condition'].unique()\n",
    "\n",
    "print(unique_values)"
   ]
  },
  {
   "cell_type": "code",
   "execution_count": 13,
   "id": "77c72ead",
   "metadata": {},
   "outputs": [],
   "source": [
    "label = ['condition']\n",
    "features = ['MEAN_RR','RMSSD','pNN25','pNN50','LF','HF','LF_HF']"
   ]
  },
  {
   "cell_type": "code",
   "execution_count": 14,
   "id": "0ade4e0f",
   "metadata": {},
   "outputs": [],
   "source": [
    "scaler = StandardScaler()\n",
    "scaler.fit(df[features])\n",
    "df[features] = scaler.transform(df[features])"
   ]
  },
  {
   "cell_type": "code",
   "execution_count": 15,
   "id": "3708b24d",
   "metadata": {},
   "outputs": [],
   "source": [
    "X = df[features].values\n",
    "Y = df[label].values"
   ]
  },
  {
   "cell_type": "code",
   "execution_count": 16,
   "id": "9c3158a1",
   "metadata": {},
   "outputs": [],
   "source": [
    "X_train,X_test,Y_train,Y_test = train_test_split(X,Y,test_size = 0.3,random_state = 40)"
   ]
  },
  {
   "cell_type": "code",
   "execution_count": 17,
   "id": "02a43286",
   "metadata": {},
   "outputs": [
    {
     "name": "stdout",
     "output_type": "stream",
     "text": [
      "(258502, 7) (258502, 1) (110787, 7) (110787, 1)\n"
     ]
    }
   ],
   "source": [
    "print(X_train.shape,Y_train.shape,X_test.shape,Y_test.shape)"
   ]
  },
  {
   "cell_type": "code",
   "execution_count": 18,
   "id": "fe89baaf",
   "metadata": {},
   "outputs": [],
   "source": [
    "Y_train = k.utils.to_categorical(Y_train)\n",
    "Y_test = k.utils.to_categorical(Y_test)"
   ]
  },
  {
   "cell_type": "markdown",
   "id": "31a27747",
   "metadata": {},
   "source": [
    "# Creating Model"
   ]
  },
  {
   "cell_type": "code",
   "execution_count": 19,
   "id": "b8b3fbee",
   "metadata": {},
   "outputs": [],
   "source": [
    "from tensorflow.keras import Sequential\n",
    "from tensorflow.keras.layers import Dense"
   ]
  },
  {
   "cell_type": "code",
   "execution_count": 20,
   "id": "213cbe34",
   "metadata": {},
   "outputs": [
    {
     "name": "stdout",
     "output_type": "stream",
     "text": [
      "WARNING:tensorflow:From C:\\Users\\hasib\\anaconda3\\Lib\\site-packages\\keras\\src\\backend.py:873: The name tf.get_default_graph is deprecated. Please use tf.compat.v1.get_default_graph instead.\n",
      "\n"
     ]
    }
   ],
   "source": [
    "model = Sequential()\n",
    "model.add(Dense(50, activation='relu',kernel_initializer = 'he_normal',input_shape=(X_train.shape[1],)))\n",
    "model.add(Dense(20, activation='relu',kernel_initializer = 'he_normal'))\n",
    "model.add(Dense(10, activation='relu',kernel_initializer = 'he_normal'))\n",
    "model.add(Dense(3, activation='softmax'))"
   ]
  },
  {
   "cell_type": "code",
   "execution_count": 21,
   "id": "5c69da17",
   "metadata": {},
   "outputs": [
    {
     "name": "stdout",
     "output_type": "stream",
     "text": [
      "WARNING:tensorflow:From C:\\Users\\hasib\\anaconda3\\Lib\\site-packages\\keras\\src\\optimizers\\__init__.py:309: The name tf.train.Optimizer is deprecated. Please use tf.compat.v1.train.Optimizer instead.\n",
      "\n"
     ]
    }
   ],
   "source": [
    "model.compile(optimizer='adam', loss='categorical_crossentropy',metrics=['accuracy'])"
   ]
  },
  {
   "cell_type": "code",
   "execution_count": 22,
   "id": "5d49e602",
   "metadata": {},
   "outputs": [
    {
     "name": "stdout",
     "output_type": "stream",
     "text": [
      "WARNING:tensorflow:From C:\\Users\\hasib\\AppData\\Local\\Temp\\ipykernel_13636\\2592824224.py:7: The name tf.executing_eagerly_outside_functions is deprecated. Please use tf.compat.v1.executing_eagerly_outside_functions instead.\n",
      "\n"
     ]
    }
   ],
   "source": [
    "import tensorflow as tf\n",
    "\n",
    "# Deprecated:\n",
    "# is_eager = tf.executing_eagerly_outside_functions()\n",
    "\n",
    "# Use the updated function:\n",
    "is_eager = tf.compat.v1.executing_eagerly_outside_functions()"
   ]
  },
  {
   "cell_type": "code",
   "execution_count": 23,
   "id": "070237ed",
   "metadata": {
    "scrolled": false
   },
   "outputs": [
    {
     "name": "stdout",
     "output_type": "stream",
     "text": [
      "Epoch 1/50\n",
      "WARNING:tensorflow:From C:\\Users\\hasib\\anaconda3\\Lib\\site-packages\\keras\\src\\utils\\tf_utils.py:492: The name tf.ragged.RaggedTensorValue is deprecated. Please use tf.compat.v1.ragged.RaggedTensorValue instead.\n",
      "\n",
      "253/253 [==============================] - 4s 8ms/step - loss: 0.8378 - accuracy: 0.6185 - val_loss: 0.7266 - val_accuracy: 0.6783\n",
      "Epoch 2/50\n",
      "253/253 [==============================] - 2s 7ms/step - loss: 0.6420 - accuracy: 0.7326 - val_loss: 0.5790 - val_accuracy: 0.7808\n",
      "Epoch 3/50\n",
      "253/253 [==============================] - 2s 6ms/step - loss: 0.5292 - accuracy: 0.7973 - val_loss: 0.4953 - val_accuracy: 0.8118\n",
      "Epoch 4/50\n",
      "253/253 [==============================] - 2s 7ms/step - loss: 0.4613 - accuracy: 0.8262 - val_loss: 0.4409 - val_accuracy: 0.8306\n",
      "Epoch 5/50\n",
      "253/253 [==============================] - 2s 6ms/step - loss: 0.4133 - accuracy: 0.8445 - val_loss: 0.3966 - val_accuracy: 0.8531\n",
      "Epoch 6/50\n",
      "253/253 [==============================] - 2s 6ms/step - loss: 0.3751 - accuracy: 0.8569 - val_loss: 0.3625 - val_accuracy: 0.8616\n",
      "Epoch 7/50\n",
      "253/253 [==============================] - 2s 6ms/step - loss: 0.3456 - accuracy: 0.8670 - val_loss: 0.3363 - val_accuracy: 0.8715\n",
      "Epoch 8/50\n",
      "253/253 [==============================] - 2s 6ms/step - loss: 0.3219 - accuracy: 0.8756 - val_loss: 0.3115 - val_accuracy: 0.8780\n",
      "Epoch 9/50\n",
      "253/253 [==============================] - 2s 7ms/step - loss: 0.3009 - accuracy: 0.8836 - val_loss: 0.2935 - val_accuracy: 0.8873\n",
      "Epoch 10/50\n",
      "253/253 [==============================] - 2s 6ms/step - loss: 0.2828 - accuracy: 0.8913 - val_loss: 0.2805 - val_accuracy: 0.8896\n",
      "Epoch 11/50\n",
      "253/253 [==============================] - 2s 6ms/step - loss: 0.2661 - accuracy: 0.8980 - val_loss: 0.2578 - val_accuracy: 0.9027\n",
      "Epoch 12/50\n",
      "253/253 [==============================] - 2s 7ms/step - loss: 0.2517 - accuracy: 0.9046 - val_loss: 0.2489 - val_accuracy: 0.9035\n",
      "Epoch 13/50\n",
      "253/253 [==============================] - 2s 7ms/step - loss: 0.2399 - accuracy: 0.9099 - val_loss: 0.2419 - val_accuracy: 0.9093\n",
      "Epoch 14/50\n",
      "253/253 [==============================] - 2s 7ms/step - loss: 0.2283 - accuracy: 0.9158 - val_loss: 0.2227 - val_accuracy: 0.9168\n",
      "Epoch 15/50\n",
      "253/253 [==============================] - 2s 7ms/step - loss: 0.2186 - accuracy: 0.9192 - val_loss: 0.2137 - val_accuracy: 0.9228\n",
      "Epoch 16/50\n",
      "253/253 [==============================] - 2s 7ms/step - loss: 0.2097 - accuracy: 0.9220 - val_loss: 0.2035 - val_accuracy: 0.9246\n",
      "Epoch 17/50\n",
      "253/253 [==============================] - 2s 6ms/step - loss: 0.2011 - accuracy: 0.9253 - val_loss: 0.2001 - val_accuracy: 0.9255\n",
      "Epoch 18/50\n",
      "253/253 [==============================] - 2s 6ms/step - loss: 0.1934 - accuracy: 0.9286 - val_loss: 0.1909 - val_accuracy: 0.9295\n",
      "Epoch 19/50\n",
      "253/253 [==============================] - 2s 6ms/step - loss: 0.1870 - accuracy: 0.9311 - val_loss: 0.1823 - val_accuracy: 0.9326\n",
      "Epoch 20/50\n",
      "253/253 [==============================] - 2s 6ms/step - loss: 0.1809 - accuracy: 0.9328 - val_loss: 0.1762 - val_accuracy: 0.9351\n",
      "Epoch 21/50\n",
      "253/253 [==============================] - 2s 6ms/step - loss: 0.1747 - accuracy: 0.9361 - val_loss: 0.1690 - val_accuracy: 0.9382\n",
      "Epoch 22/50\n",
      "253/253 [==============================] - 2s 6ms/step - loss: 0.1691 - accuracy: 0.9383 - val_loss: 0.1654 - val_accuracy: 0.9401\n",
      "Epoch 23/50\n",
      "253/253 [==============================] - 2s 6ms/step - loss: 0.1643 - accuracy: 0.9395 - val_loss: 0.1646 - val_accuracy: 0.9400\n",
      "Epoch 24/50\n",
      "253/253 [==============================] - 2s 6ms/step - loss: 0.1611 - accuracy: 0.9411 - val_loss: 0.1595 - val_accuracy: 0.9426\n",
      "Epoch 25/50\n",
      "253/253 [==============================] - 2s 6ms/step - loss: 0.1562 - accuracy: 0.9435 - val_loss: 0.1610 - val_accuracy: 0.9409\n",
      "Epoch 26/50\n",
      "253/253 [==============================] - 2s 6ms/step - loss: 0.1518 - accuracy: 0.9453 - val_loss: 0.1496 - val_accuracy: 0.9460\n",
      "Epoch 27/50\n",
      "253/253 [==============================] - 2s 6ms/step - loss: 0.1490 - accuracy: 0.9464 - val_loss: 0.1517 - val_accuracy: 0.9432\n",
      "Epoch 28/50\n",
      "253/253 [==============================] - 2s 6ms/step - loss: 0.1453 - accuracy: 0.9478 - val_loss: 0.1407 - val_accuracy: 0.9512\n",
      "Epoch 29/50\n",
      "253/253 [==============================] - 2s 6ms/step - loss: 0.1420 - accuracy: 0.9493 - val_loss: 0.1441 - val_accuracy: 0.9479\n",
      "Epoch 30/50\n",
      "253/253 [==============================] - 2s 6ms/step - loss: 0.1389 - accuracy: 0.9504 - val_loss: 0.1389 - val_accuracy: 0.9510\n",
      "Epoch 31/50\n",
      "253/253 [==============================] - 2s 6ms/step - loss: 0.1375 - accuracy: 0.9507 - val_loss: 0.1333 - val_accuracy: 0.9532\n",
      "Epoch 32/50\n",
      "253/253 [==============================] - 2s 6ms/step - loss: 0.1345 - accuracy: 0.9525 - val_loss: 0.1312 - val_accuracy: 0.9536\n",
      "Epoch 33/50\n",
      "253/253 [==============================] - 2s 6ms/step - loss: 0.1321 - accuracy: 0.9530 - val_loss: 0.1312 - val_accuracy: 0.9527\n",
      "Epoch 34/50\n",
      "253/253 [==============================] - 2s 6ms/step - loss: 0.1298 - accuracy: 0.9536 - val_loss: 0.1287 - val_accuracy: 0.9542\n",
      "Epoch 35/50\n",
      "253/253 [==============================] - 2s 6ms/step - loss: 0.1280 - accuracy: 0.9543 - val_loss: 0.1257 - val_accuracy: 0.9552\n",
      "Epoch 36/50\n",
      "253/253 [==============================] - 2s 6ms/step - loss: 0.1249 - accuracy: 0.9558 - val_loss: 0.1238 - val_accuracy: 0.9564\n",
      "Epoch 37/50\n",
      "253/253 [==============================] - 2s 6ms/step - loss: 0.1233 - accuracy: 0.9562 - val_loss: 0.1234 - val_accuracy: 0.9557\n",
      "Epoch 38/50\n",
      "253/253 [==============================] - 2s 6ms/step - loss: 0.1216 - accuracy: 0.9569 - val_loss: 0.1244 - val_accuracy: 0.9553\n",
      "Epoch 39/50\n",
      "253/253 [==============================] - 2s 6ms/step - loss: 0.1207 - accuracy: 0.9567 - val_loss: 0.1194 - val_accuracy: 0.9568\n",
      "Epoch 40/50\n",
      "253/253 [==============================] - 1s 5ms/step - loss: 0.1180 - accuracy: 0.9576 - val_loss: 0.1172 - val_accuracy: 0.9572\n",
      "Epoch 41/50\n",
      "253/253 [==============================] - 2s 6ms/step - loss: 0.1178 - accuracy: 0.9577 - val_loss: 0.1195 - val_accuracy: 0.9575\n",
      "Epoch 42/50\n",
      "253/253 [==============================] - 2s 6ms/step - loss: 0.1160 - accuracy: 0.9585 - val_loss: 0.1138 - val_accuracy: 0.9580\n",
      "Epoch 43/50\n",
      "253/253 [==============================] - 2s 6ms/step - loss: 0.1136 - accuracy: 0.9596 - val_loss: 0.1120 - val_accuracy: 0.9596\n",
      "Epoch 44/50\n",
      "253/253 [==============================] - 2s 7ms/step - loss: 0.1129 - accuracy: 0.9599 - val_loss: 0.1084 - val_accuracy: 0.9617\n",
      "Epoch 45/50\n",
      "253/253 [==============================] - 2s 7ms/step - loss: 0.1111 - accuracy: 0.9607 - val_loss: 0.1114 - val_accuracy: 0.9599\n",
      "Epoch 46/50\n",
      "253/253 [==============================] - 2s 6ms/step - loss: 0.1092 - accuracy: 0.9612 - val_loss: 0.1080 - val_accuracy: 0.9614\n",
      "Epoch 47/50\n",
      "253/253 [==============================] - 2s 6ms/step - loss: 0.1093 - accuracy: 0.9611 - val_loss: 0.1058 - val_accuracy: 0.9618\n",
      "Epoch 48/50\n",
      "253/253 [==============================] - 2s 6ms/step - loss: 0.1081 - accuracy: 0.9611 - val_loss: 0.1057 - val_accuracy: 0.9621\n",
      "Epoch 49/50\n",
      "253/253 [==============================] - 2s 6ms/step - loss: 0.1075 - accuracy: 0.9618 - val_loss: 0.1083 - val_accuracy: 0.9595\n",
      "Epoch 50/50\n",
      "253/253 [==============================] - 2s 6ms/step - loss: 0.1061 - accuracy: 0.9620 - val_loss: 0.1058 - val_accuracy: 0.9619\n"
     ]
    }
   ],
   "source": [
    "history = model.fit(X_train,Y_train, validation_data = (X_test,Y_test), epochs = 50, batch_size = 1024, verbose =1)"
   ]
  },
  {
   "cell_type": "code",
   "execution_count": 24,
   "id": "5fba454c",
   "metadata": {},
   "outputs": [
    {
     "data": {
      "text/plain": [
       "<Axes: >"
      ]
     },
     "execution_count": 24,
     "metadata": {},
     "output_type": "execute_result"
    },
    {
     "data": {
      "image/png": "[encoded data removed]",
      "text/plain": [
       "<Figure size 1000x700 with 1 Axes>"
      ]
     },
     "metadata": {},
     "output_type": "display_data"
    }
   ],
   "source": [
    "pd.DataFrame(history.history).plot(figsize=(10,7))"
   ]
  },
  {
   "cell_type": "markdown",
   "id": "3490dfa7",
   "metadata": {},
   "source": [
    "# Testing on testset"
   ]
  },
  {
   "cell_type": "code",
   "execution_count": 25,
   "id": "bb197807",
   "metadata": {},
   "outputs": [],
   "source": [
    "df_test = pd.read_csv('test.csv')"
   ]
  },
  {
   "cell_type": "code",
   "execution_count": 26,
   "id": "7a64cc12",
   "metadata": {},
   "outputs": [
    {
     "data": {
      "text/html": [
       "<div>\n",
       "<style scoped>\n",
       "    .dataframe tbody tr th:only-of-type {\n",
       "        vertical-align: middle;\n",
       "    }\n",
       "\n",
       "    .dataframe tbody tr th {\n",
       "        vertical-align: top;\n",
       "    }\n",
       "\n",
       "    .dataframe thead th {\n",
       "        text-align: right;\n",
       "    }\n",
       "</style>\n",
       "<table border=\"1\" class=\"dataframe\">\n",
       "  <thead>\n",
       "    <tr style=\"text-align: right;\">\n",
       "      <th></th>\n",
       "      <th>MEAN_RR</th>\n",
       "      <th>RMSSD</th>\n",
       "      <th>pNN25</th>\n",
       "      <th>pNN50</th>\n",
       "      <th>LF</th>\n",
       "      <th>HF</th>\n",
       "      <th>LF_HF</th>\n",
       "    </tr>\n",
       "  </thead>\n",
       "  <tbody>\n",
       "    <tr>\n",
       "      <th>0</th>\n",
       "      <td>-1.001159</td>\n",
       "      <td>-0.634891</td>\n",
       "      <td>-0.598837</td>\n",
       "      <td>-0.874583</td>\n",
       "      <td>-0.575814</td>\n",
       "      <td>0.602911</td>\n",
       "      <td>-0.295775</td>\n",
       "    </tr>\n",
       "    <tr>\n",
       "      <th>1</th>\n",
       "      <td>-0.024971</td>\n",
       "      <td>1.048686</td>\n",
       "      <td>1.361573</td>\n",
       "      <td>-0.672601</td>\n",
       "      <td>1.080403</td>\n",
       "      <td>-0.280746</td>\n",
       "      <td>-0.157544</td>\n",
       "    </tr>\n",
       "    <tr>\n",
       "      <th>2</th>\n",
       "      <td>0.897836</td>\n",
       "      <td>1.544671</td>\n",
       "      <td>1.743894</td>\n",
       "      <td>0.943254</td>\n",
       "      <td>1.965161</td>\n",
       "      <td>-0.511482</td>\n",
       "      <td>0.037412</td>\n",
       "    </tr>\n",
       "    <tr>\n",
       "      <th>3</th>\n",
       "      <td>-0.175046</td>\n",
       "      <td>-0.777935</td>\n",
       "      <td>-0.623241</td>\n",
       "      <td>-0.335965</td>\n",
       "      <td>-0.767443</td>\n",
       "      <td>-0.477196</td>\n",
       "      <td>-0.241658</td>\n",
       "    </tr>\n",
       "    <tr>\n",
       "      <th>4</th>\n",
       "      <td>-0.721825</td>\n",
       "      <td>-0.393071</td>\n",
       "      <td>-0.476820</td>\n",
       "      <td>-0.201310</td>\n",
       "      <td>-0.735541</td>\n",
       "      <td>-0.089133</td>\n",
       "      <td>-0.280126</td>\n",
       "    </tr>\n",
       "  </tbody>\n",
       "</table>\n",
       "</div>"
      ],
      "text/plain": [
       "    MEAN_RR     RMSSD     pNN25     pNN50        LF        HF     LF_HF\n",
       "0 -1.001159 -0.634891 -0.598837 -0.874583 -0.575814  0.602911 -0.295775\n",
       "1 -0.024971  1.048686  1.361573 -0.672601  1.080403 -0.280746 -0.157544\n",
       "2  0.897836  1.544671  1.743894  0.943254  1.965161 -0.511482  0.037412\n",
       "3 -0.175046 -0.777935 -0.623241 -0.335965 -0.767443 -0.477196 -0.241658\n",
       "4 -0.721825 -0.393071 -0.476820 -0.201310 -0.735541 -0.089133 -0.280126"
      ]
     },
     "execution_count": 26,
     "metadata": {},
     "output_type": "execute_result"
    }
   ],
   "source": [
    "df_test[features] = scaler.transform(df_test[features])\n",
    "df_test[features].head()"
   ]
  },
  {
   "cell_type": "code",
   "execution_count": 27,
   "id": "a2d737e0",
   "metadata": {},
   "outputs": [],
   "source": [
    "X = df_test[features].values\n",
    "y = df_test[label].values"
   ]
  },
  {
   "cell_type": "code",
   "execution_count": 28,
   "id": "5527f007",
   "metadata": {},
   "outputs": [],
   "source": [
    "y = k.utils.to_categorical(y)"
   ]
  },
  {
   "cell_type": "code",
   "execution_count": 29,
   "id": "51a2c0ec",
   "metadata": {},
   "outputs": [
    {
     "name": "stdout",
     "output_type": "stream",
     "text": [
      "1283/1283 [==============================] - 4s 3ms/step - loss: 0.1063 - accuracy: 0.9630\n"
     ]
    }
   ],
   "source": [
    "loss,acc = model.evaluate(X,y,verbose=1)"
   ]
  },
  {
   "cell_type": "markdown",
   "id": "46c89a5c",
   "metadata": {},
   "source": [
    "# Final Pipeline for prediction"
   ]
  },
  {
   "cell_type": "code",
   "execution_count": 30,
   "id": "ada6518f",
   "metadata": {},
   "outputs": [],
   "source": [
    "df4=pd.read_csv('C:/Users/hasib/Downloads/Stress+level+detection/Project Code/Data/Test Data/Test Zip/frequency_domain_features_test.csv')"
   ]
  },
  {
   "cell_type": "code",
   "execution_count": 31,
   "id": "1befdbd1",
   "metadata": {},
   "outputs": [],
   "source": [
    "df5=pd.read_csv('C:/Users/hasib/Downloads/Stress+level+detection/Project Code/Data/Test Data/Test Zip/heart_rate_non_linear_features_test.csv')"
   ]
  },
  {
   "cell_type": "code",
   "execution_count": 32,
   "id": "5b9e1f2b",
   "metadata": {},
   "outputs": [],
   "source": [
    "df6=pd.read_csv('C:/Users/hasib/Downloads/Stress+level+detection/Project Code/Data/Test Data/Test Zip/time_domain_features_test.csv')"
   ]
  },
  {
   "cell_type": "code",
   "execution_count": 33,
   "id": "8f3b643d",
   "metadata": {},
   "outputs": [],
   "source": [
    "result2 = pd.merge(df4, pd.merge(df5, df6, on='uuid'), on='uuid')\n",
    "data = result2[['MEAN_RR','RMSSD','pNN25','pNN50','LF','HF','LF_HF','condition']].copy()"
   ]
  },
  {
   "cell_type": "code",
   "execution_count": 34,
   "id": "ee9fe6de",
   "metadata": {},
   "outputs": [
    {
     "data": {
      "text/html": [
       "<div>\n",
       "<style scoped>\n",
       "    .dataframe tbody tr th:only-of-type {\n",
       "        vertical-align: middle;\n",
       "    }\n",
       "\n",
       "    .dataframe tbody tr th {\n",
       "        vertical-align: top;\n",
       "    }\n",
       "\n",
       "    .dataframe thead th {\n",
       "        text-align: right;\n",
       "    }\n",
       "</style>\n",
       "<table border=\"1\" class=\"dataframe\">\n",
       "  <thead>\n",
       "    <tr style=\"text-align: right;\">\n",
       "      <th></th>\n",
       "      <th>MEAN_RR</th>\n",
       "      <th>RMSSD</th>\n",
       "      <th>pNN25</th>\n",
       "      <th>pNN50</th>\n",
       "      <th>LF</th>\n",
       "      <th>HF</th>\n",
       "      <th>LF_HF</th>\n",
       "      <th>condition</th>\n",
       "    </tr>\n",
       "  </thead>\n",
       "  <tbody>\n",
       "    <tr>\n",
       "      <th>0</th>\n",
       "      <td>934.665288</td>\n",
       "      <td>11.801781</td>\n",
       "      <td>3.933333</td>\n",
       "      <td>0.133333</td>\n",
       "      <td>570.643114</td>\n",
       "      <td>2.993254</td>\n",
       "      <td>190.643094</td>\n",
       "      <td>2</td>\n",
       "    </tr>\n",
       "    <tr>\n",
       "      <th>1</th>\n",
       "      <td>817.062380</td>\n",
       "      <td>20.558810</td>\n",
       "      <td>24.600000</td>\n",
       "      <td>0.533333</td>\n",
       "      <td>1553.971621</td>\n",
       "      <td>39.694850</td>\n",
       "      <td>39.147940</td>\n",
       "      <td>0</td>\n",
       "    </tr>\n",
       "    <tr>\n",
       "      <th>2</th>\n",
       "      <td>876.762022</td>\n",
       "      <td>13.853737</td>\n",
       "      <td>7.066667</td>\n",
       "      <td>0.533333</td>\n",
       "      <td>655.175895</td>\n",
       "      <td>14.536877</td>\n",
       "      <td>45.069921</td>\n",
       "      <td>0</td>\n",
       "    </tr>\n",
       "    <tr>\n",
       "      <th>3</th>\n",
       "      <td>1038.640693</td>\n",
       "      <td>16.457194</td>\n",
       "      <td>10.800000</td>\n",
       "      <td>1.866667</td>\n",
       "      <td>592.913021</td>\n",
       "      <td>7.093235</td>\n",
       "      <td>83.588517</td>\n",
       "      <td>2</td>\n",
       "    </tr>\n",
       "    <tr>\n",
       "      <th>4</th>\n",
       "      <td>774.548508</td>\n",
       "      <td>10.273114</td>\n",
       "      <td>2.000000</td>\n",
       "      <td>0.066667</td>\n",
       "      <td>374.939530</td>\n",
       "      <td>33.468834</td>\n",
       "      <td>11.202647</td>\n",
       "      <td>1</td>\n",
       "    </tr>\n",
       "  </tbody>\n",
       "</table>\n",
       "</div>"
      ],
      "text/plain": [
       "       MEAN_RR      RMSSD      pNN25     pNN50           LF         HF  \\\n",
       "0   934.665288  11.801781   3.933333  0.133333   570.643114   2.993254   \n",
       "1   817.062380  20.558810  24.600000  0.533333  1553.971621  39.694850   \n",
       "2   876.762022  13.853737   7.066667  0.533333   655.175895  14.536877   \n",
       "3  1038.640693  16.457194  10.800000  1.866667   592.913021   7.093235   \n",
       "4   774.548508  10.273114   2.000000  0.066667   374.939530  33.468834   \n",
       "\n",
       "        LF_HF condition  \n",
       "0  190.643094         2  \n",
       "1   39.147940         0  \n",
       "2   45.069921         0  \n",
       "3   83.588517         2  \n",
       "4   11.202647         1  "
      ]
     },
     "execution_count": 34,
     "metadata": {},
     "output_type": "execute_result"
    }
   ],
   "source": [
    "replace_dict = {'no stress': '0', 'interruption': '1', 'time pressure': '2'}\n",
    "data['condition'] = data['condition'].replace(replace_dict)\n",
    "data.head()"
   ]
  },
  {
   "cell_type": "code",
   "execution_count": 35,
   "id": "16798095",
   "metadata": {},
   "outputs": [
    {
     "name": "stdout",
     "output_type": "stream",
     "text": [
      "[[-0.14197868  1.74248065  2.22382818  0.87592707  1.63804806  0.41363877\n",
      "  -0.23127176]]\n"
     ]
    },
    {
     "name": "stderr",
     "output_type": "stream",
     "text": [
      "C:\\Users\\hasib\\anaconda3\\Lib\\site-packages\\sklearn\\base.py:464: UserWarning: X does not have valid feature names, but StandardScaler was fitted with feature names\n",
      "  warnings.warn(\n"
     ]
    }
   ],
   "source": [
    "t = scaler.transform(data[features].iloc[5545].values.reshape(1,-1))\n",
    "print(t)"
   ]
  },
  {
   "cell_type": "code",
   "execution_count": 36,
   "id": "e31e2060",
   "metadata": {},
   "outputs": [
    {
     "name": "stdout",
     "output_type": "stream",
     "text": [
      "1/1 [==============================] - 0s 125ms/step\n"
     ]
    }
   ],
   "source": [
    "y_pred = model.predict(t)"
   ]
  },
  {
   "cell_type": "code",
   "execution_count": 37,
   "id": "0394efb9",
   "metadata": {},
   "outputs": [
    {
     "name": "stdout",
     "output_type": "stream",
     "text": [
      "1\n",
      "condition    1\n",
      "Name: 5545, dtype: object\n"
     ]
    }
   ],
   "source": [
    "print(np.argmax(y_pred[0]))\n",
    "print(data[label].iloc[5545])"
   ]
  }
 ],
 "metadata": {
  "kernelspec": {
   "display_name": "Python 3 (ipykernel)",
   "language": "python",
   "name": "python3"
  },
  "language_info": {
   "codemirror_mode": {
    "name": "ipython",
    "version": 3
   },
   "file_extension": ".py",
   "mimetype": "text/x-python",
   "name": "python",
   "nbconvert_exporter": "python",
   "pygments_lexer": "ipython3",
   "version": "3.11.5"
  }
 },
 "nbformat": 4,
 "nbformat_minor": 5
}
